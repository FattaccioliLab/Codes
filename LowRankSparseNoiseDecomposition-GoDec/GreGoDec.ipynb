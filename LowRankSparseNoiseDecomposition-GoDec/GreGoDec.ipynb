{
 "cells": [
  {
   "cell_type": "markdown",
   "metadata": {},
   "source": [
    "# Low Rank Sparse Noise Decomposition - GoDec\n",
    "\n",
    "## Description\n",
    "\n",
    "This is the Python 3.7 traduction of the AISTATS 2013 GreBsmo code (Zhou and Tao) available here in its Matlab version :\n",
    "https://tianyizhou.wordpress.com/2014/05/23/aistats-2013-grebsmo-code-is-released/\n",
    "\n",
    "More details about the code :\n",
    "https://nuit-blanche.blogspot.com/2014/07/grebsmo-greedy-bilateral-sketch.html\n",
    "\n",
    "Our Python version can take 8bit or 16bit TIFF stacks as inputs, and more common .avi movies.\n",
    "The RGB .avi are converted in grayscale.\n",
    "\n",
    "## File description\n",
    "\n",
    "- The Samples folder contains two test files : a .avi movie (Escalator.avi) and a b/w 8bit TIFF stack of the same movie (Escalator-1000f-8b.tif). For space reasons, the TIFF stack contains only the first 1000 frames of the movie.\n",
    "\n",
    "## Output\n",
    "The output will be 2 TIFF stacks :\n",
    "\n",
    "- 2-Background.tif : the Low Rank component TIFF stack, corresponding to the background\n",
    "\n",
    "- 3-Sparse.tif : the Sparse component TIFF file, containing the moving objects of interest\n",
    "\n",
    "\n",
    "The function takes the following arguments :\n",
    "\n",
    "- Namefile : path of the .avi movie or TIFF stack\n",
    "- rank : rank(L)<=rank\n",
    "- tau : soft thresholding\n",
    "- tol : error tolerance\n",
    "- power: >=0, power scheme modification, increasing it lead to better accuracy and more time cost\n",
    "- k : rank stepsize\n",
    "- dynamicrange : grayscale depth (8 or 16) of the output TIFF files\n",
    "- length : the number of frames on which to run the routine.\n",
    "\n",
    "rank, tau, power, tol and k are parameters coming from the code of Zhou and Tao.\n",
    "\n",
    "## REFERENCE\n",
    "\n",
    "Tianyi Zhou and Dacheng Tao, \"GoDec: Randomized Lo-rank & Sparse Matrix Decomposition in Noisy Case\", ICML 2011\n",
    "\n",
    "Tianyi Zhou and Dacheng Tao, \"Greedy Bilateral Sketch, Completion and  Smoothing\", AISTATS 2013.\n",
    "\n",
    "Python Implementation: J. Fattaccioli (Department of Chemistry, ENS)\n",
    "\n",
    "Date: November 2021"
   ]
  },
  {
   "cell_type": "markdown",
   "metadata": {
    "tags": []
   },
   "source": [
    "# Initial Setup"
   ]
  },
  {
   "cell_type": "code",
   "execution_count": 1,
   "metadata": {
    "tags": []
   },
   "outputs": [],
   "source": [
    "#conda activate ImageAnalysis\n",
    "#Environment to activate on Jacques's machine\n",
    "\n",
    "%gui qt\n",
    "\n",
    "import napari\n",
    "import sys\n",
    "import numpy as np\n",
    "import pywt\n",
    "import scipy as sc\n",
    "import scipy.sparse.linalg as linalg\n",
    "import cv2 as cv\n",
    "import session_info\n",
    "\n",
    "from skimage import data, io, transform\n",
    "from PyQt5.QtWidgets import QApplication, QWidget, QInputDialog, QLineEdit, QFileDialog\n",
    "from PyQt5.QtGui import QIcon\n",
    "\n",
    "def gui_fname(dir=None):\n",
    "    \"\"\"Select a file via a dialog and return the file name.\"\"\"\n",
    "    if dir is None: dir ='./'\n",
    "    fname = QFileDialog.getOpenFileName(None, \"Select data file...\", \n",
    "                dir, filter=\"TIFF (*.tif) ;; AVI (*.avi)\")\n",
    "    \n",
    "    filename = fname[0].split('/')[-1]\n",
    "    path=fname[0].replace(filename, '')\n",
    "    \n",
    "    return (path, filename, fname[1])\n",
    "\n",
    "def import_image(filename: str, max_frames: int) -> np.ndarray:\n",
    "    \"\"\"\n",
    "    Retrieve an tiff image stack in a numpy array\n",
    "    max_frames : maximum number of frames. 0 by default: all frames are loaded\n",
    "    \"\"\"\n",
    "\n",
    "    NameFileParsed = filename.split(\".\")\n",
    "    print(NameFileParsed[-1])\n",
    "\n",
    "    if NameFileParsed[-1] == (\"tif\" or \"tiff\"):\n",
    "        Image = io.imread(filename)\n",
    "        Image.astype(float)\n",
    "\n",
    "        if max_frames > Image.shape[0]:\n",
    "            max_frames = Image.shape[0]\n",
    "\n",
    "        if max_frames != 0:\n",
    "            Image = Image[\n",
    "                :max_frames,\n",
    "            ]\n",
    "        print(\"TIF stack loading OK\")\n",
    "\n",
    "    elif NameFileParsed[-1] == \"avi\":\n",
    "        Cap = cv.VideoCapture(filename)\n",
    "        frame_count = int(cv.VideoCapture.get(Cap, int(cv.CAP_PROP_FRAME_COUNT)))\n",
    "\n",
    "        if max_frames > frame_count:\n",
    "            max_frames = frame_count\n",
    "\n",
    "        if max_frames != 0:\n",
    "            Frames = max_frames\n",
    "\n",
    "        Width = int(cv.VideoCapture.get(Cap, int(cv.CAP_PROP_FRAME_WIDTH)))\n",
    "        Height = int(cv.VideoCapture.get(Cap, int(cv.CAP_PROP_FRAME_HEIGHT)))\n",
    "        Temp = np.zeros((Frames, Height, Width))\n",
    "\n",
    "        for framenumber in range(Frames):\n",
    "            if (framenumber + 1) % 10 == 0:\n",
    "                print(\"Frame number = \", framenumber + 1)\n",
    "\n",
    "            ret, frame = Cap.read()\n",
    "            # if frame is read correctly ret is True\n",
    "            if not ret:\n",
    "                print(\"Can't receive frame (stream end?). Exiting...\")\n",
    "                break\n",
    "            Temp[framenumber::] = cv.cvtColor(frame, cv.COLOR_BGR2GRAY)\n",
    "\n",
    "        Cap.release()\n",
    "        Image = Temp\n",
    "        print(\"AVI loading OK\")\n",
    "    else:\n",
    "        raise RuntimeError(\"The file extension should be .tif, .tiff or .avi.\")\n",
    "\n",
    "    NImage = Image.shape[0]\n",
    "    HImage = Image.shape[1]\n",
    "    WImage = Image.shape[2]\n",
    "    return Image, NImage, HImage, WImage\n",
    "\n",
    "def vectorize(Image, NImage, HImage, WImage) -> np.ndarray:\n",
    "    \"\"\"\n",
    "    nparray(N, H, W)*int*int*int -> np.array(N,H*W)\n",
    "    Convert the image stack (3d) in 2D\n",
    "    This function is necessary to perform the GoDec process\n",
    "    \"\"\"\n",
    "\n",
    "    FinalImage = np.zeros((NImage, HImage * WImage))\n",
    "    for i in range(NImage):\n",
    "        FinalImage[i, :] = np.reshape(Image[i, :, :], HImage * WImage)\n",
    "\n",
    "    return FinalImage\n",
    "\n",
    "def reconstruct(vector, line, col, time) -> np.ndarray:\n",
    "    \"\"\"\n",
    "    np.array(N,H*W)*H(int)*W(int)*N(int)*str*int -> nparray(N, H, W)\n",
    "    Reconstruct the image stacks after the GoDecprocess\n",
    "    Save the nparray in a tif stack 'path' with the given dynamic range ( 8 or 16)\n",
    "    \"\"\"\n",
    "    image = np.zeros((time, line, col))\n",
    "    for i in range(time - 1):\n",
    "        temp = vector[i, :]\n",
    "        image[i, :, :] = temp.reshape((line, col))\n",
    "\n",
    "    return image\n",
    "\n",
    "def save(data, path, dynamicrange=8) -> None:\n",
    "    \"\"\"\n",
    "    nparray*str*int -> *\n",
    "    This function save the nparray data as tif file with a given dynamic range\n",
    "    Dynamic range = 8 or 16\n",
    "    \"\"\"\n",
    "\n",
    "    # Conversion of the pixel values in uint8\n",
    "    data = ((data - np.amin(data)) / np.amax(data - np.amin(data))) * (\n",
    "        2 ** dynamicrange - 1\n",
    "    )\n",
    "    if dynamicrange == 8:\n",
    "        data = data.astype(np.uint8)\n",
    "    elif dynamicrange == 16:\n",
    "        data = data.astype(np.uint16)\n",
    "    else:\n",
    "        raise Exception(\"The dynamic range should be equal to 8 or 16 (bits)\")\n",
    "    \n",
    "    print(path)\n",
    "#    Saving tif file\n",
    "    io.imsave(path, data)\n",
    "    \n",
    "    \n",
    "def GreGoDec(D, rank, tau, tol, power, k):\n",
    "    \"\"\"\n",
    "    INPUTS:\n",
    "    D: nxp data matrix with n samples and p features\n",
    "    rank: rank(L)<=rank\n",
    "    tau: soft thresholding\n",
    "    power: must be positive int. Power scheme modification, increasing it leads to better accuracy at the cost of time\n",
    "    k: rank stepsize\n",
    "\n",
    "    OUTPUTS:\n",
    "    D : Input data matrix\n",
    "    L:Low-rank part\n",
    "    S:Sparse part\n",
    "\n",
    "    The code uses these functions :\n",
    "    https://pywavelets.readthedocs.io/en/latest/ref/thresholding-functions.html\n",
    "    https://docs.scipy.org/doc/scipy/reference/generated/scipy.sparse.linalg.svds.html\n",
    "    \"\"\"\n",
    "    # Transposition in case the array has a wrong shape\n",
    "\n",
    "    if D.shape[0] < D.shape[1]:\n",
    "        D = np.transpose(D)\n",
    "\n",
    "    normD = np.linalg.norm(D)\n",
    "    # initialization of L and S\n",
    "    rankk = round(rank / k)\n",
    "    error = np.zeros((rank * power, 1), dtype=float)\n",
    "\n",
    "    # Computation of the singular values\n",
    "    X, s, Y = linalg.svds(D, k)\n",
    "\n",
    "    s = s * np.identity(k)\n",
    "    X = X.dot(s)\n",
    "    L = X.dot(Y)\n",
    "\n",
    "    # Wavelet thresholding functions\n",
    "    # https://pywavelets.readthedocs.io/en/latest/ref/thresholding-functions.html\n",
    "    S = pywt.threshold(D - L, tau, 'soft')\n",
    "\n",
    "    # Calcul de l'erreur\n",
    "    T = D - L - S\n",
    "    error[0] = np.linalg.norm(T) / normD\n",
    "\n",
    "    iii = 1\n",
    "    stop = False\n",
    "    alf = 0\n",
    "    for r in range(1, rankk + 1):\n",
    "        print(\"Step \", r, \" over\", rankk) #Etat d'avancement dans la boucle\n",
    "        r = r - 1\n",
    "        # parameters for alf\n",
    "        rrank = rank\n",
    "        est_rank = 1  # Est_rank est toujours = à 1 (?) ?\n",
    "        alf = 0\n",
    "        increment = 1\n",
    "\n",
    "        if iii == power * (r - 2) + 1:\n",
    "            iii = iii + power\n",
    "        for iter in range(1, power + 1):\n",
    "            print(100*iter/power, \"%\")#Etat d'avancement dans la boucle\n",
    "            # Update of X\n",
    "            X = abs(L.dot(np.transpose(Y)))\n",
    "\n",
    "            # QR decomposition of X=L*Y' matrix\n",
    "            X, R = np.linalg.qr(X)\n",
    "\n",
    "            # Update of Y\n",
    "            Y = np.transpose(X).dot(L)\n",
    "            L = X.dot(Y)\n",
    "            # Update of S\n",
    "            T = D - L\n",
    "            S = pywt.threshold(T, tau, mode='soft')\n",
    "\n",
    "            # Error, stopping criteria\n",
    "            T = T - S\n",
    "            ii = iii + iter - 1\n",
    "\n",
    "            error[ii] = np.linalg.norm(T) / np.linalg.norm(D)\n",
    "\n",
    "            if error[ii] < tol:\n",
    "                stop = True\n",
    "                break\n",
    "\n",
    "            if rrank != rank:\n",
    "                rank = rrank\n",
    "                if est_rank == 0:\n",
    "                    alf = 0\n",
    "                    continue\n",
    "\n",
    "            # Adjust alf\n",
    "            ratio = error[ii] / error[ii - 1]\n",
    "            # Interzmediate variables\n",
    "            X1 = X\n",
    "            Y1 = Y\n",
    "            L1 = L\n",
    "            S1 = S\n",
    "            T1 = T\n",
    "\n",
    "            if ratio >= 1.1:\n",
    "                increment = max(0.1 * alf, 0.1 * increment)\n",
    "                X = X1\n",
    "                Y = Y1\n",
    "                L = L1\n",
    "                S = S1\n",
    "                T = T1\n",
    "                error[ii] = error[ii - 1]\n",
    "                alf = 0\n",
    "\n",
    "            elif ratio > 0.7:\n",
    "                increment = max(increment, 0.25 * alf)\n",
    "                alf = alf + increment\n",
    "\n",
    "            # Update of L\n",
    "            X1 = X\n",
    "            Y1 = Y\n",
    "            L1 = L\n",
    "            S1 = S\n",
    "            T1 = T\n",
    "            L = L + (1 + alf) * T\n",
    "\n",
    "            # Add corest\n",
    "            if iter > 8:\n",
    "                if np.mean(np.divide(error[ii - 7 : ii], error[ii - 8])) > 0.92:\n",
    "                    iii = ii\n",
    "\n",
    "                    if Y.shape[1] - X.shape[0] >= k:\n",
    "                        Y = Y[0 : X.shape[0] - 1, :]\n",
    "                    break\n",
    "\n",
    "        # Stop\n",
    "        if stop == True:\n",
    "            break\n",
    "\n",
    "        # Coreset\n",
    "        if r + 1 < rankk:\n",
    "            RR = np.random.randn(k, D.shape[0])\n",
    "            v = RR.dot(L)\n",
    "            Y = np.block([[Y], [v]])\n",
    "\n",
    "    # error[error==0]=[]\n",
    "    error = [error != 0]\n",
    "    L = X.dot(Y)\n",
    "\n",
    "    if D.shape[0] > D.shape[1]:\n",
    "        L = np.transpose(L)\n",
    "        S = np.transpose(S)\n",
    "\n",
    "    return np.transpose(D), L, S\n",
    "\n",
    "def DecomposeGoDec(FinalImage, rank=3, power=5, tau=7, tol=0.001, k=2,  max_frames=0):\n",
    "    \"\"\"\n",
    "    The entry point function to call to do the decomposition\n",
    "\n",
    "    StartingImage: np.array (W, H, N)\n",
    "    rank: ralk(L) <= rank\n",
    "    power: must be positive int. Power scheme modification, increasing it leads to better accuracy at the cost of time\n",
    "    tau: soft thresholding\n",
    "    tol: error tolerance\n",
    "    k: rank stepsizes\n",
    "    dynamicrange: grayscale depth (8 or 16) of the output TIFF files\n",
    "    max_frames: the number of frames on which to run the routine (default is 0 which means all the frames)\n",
    "    \"\"\"\n",
    "\n",
    "    D, L, S = GreGoDec(FinalImage, rank, tau, tol, power, k)\n",
    "    print(\"GoDec OK\")\n",
    "\n",
    "    return (D, L, S)"
   ]
  },
  {
   "cell_type": "markdown",
   "metadata": {},
   "source": [
    "# Start of the procedure"
   ]
  },
  {
   "cell_type": "markdown",
   "metadata": {
    "tags": []
   },
   "source": [
    "## Retrieve the file name and path"
   ]
  },
  {
   "cell_type": "code",
   "execution_count": 2,
   "metadata": {
    "tags": []
   },
   "outputs": [
    {
     "name": "stdout",
     "output_type": "stream",
     "text": [
      "/Users/jacques/Dropbox/Codes/Python/ImageAnalysis/GoDec/Samples/ 1-Original.tif TIFF (*.tif)\n"
     ]
    }
   ],
   "source": [
    "#Retrieve the file name and path using the QtGUI open file dialog\n",
    "\n",
    "path, filename, filetype = gui_fname()\n",
    "print(path, filename, filetype)\n",
    "\n",
    "#noise, bgd, sparse = GreGoDec.DecomposeGoDec(path+filename, 100)"
   ]
  },
  {
   "cell_type": "markdown",
   "metadata": {},
   "source": [
    "## Number of frames to analyse\n",
    "\n",
    "0 is the value per default : all the frames will be imported\n",
    "frame_number should be smaller than the actual number of frames in the tiff_stack or movie"
   ]
  },
  {
   "cell_type": "code",
   "execution_count": 3,
   "metadata": {},
   "outputs": [],
   "source": [
    "max_frames = 0 #If max_frame = 0 : import all the slices of the stack"
   ]
  },
  {
   "cell_type": "markdown",
   "metadata": {},
   "source": [
    "## Load the tiff stack or the avi file"
   ]
  },
  {
   "cell_type": "code",
   "execution_count": 4,
   "metadata": {},
   "outputs": [
    {
     "name": "stdout",
     "output_type": "stream",
     "text": [
      "tif\n",
      "TIF stack loading OK\n",
      "width = 160 height = 130 frames = 100\n"
     ]
    }
   ],
   "source": [
    "stack, frames, height, width = import_image(path + filename, max_frames)\n",
    "print(\"width =\", width, \"height =\", height, \"frames =\", frames)"
   ]
  },
  {
   "cell_type": "code",
   "execution_count": 5,
   "metadata": {},
   "outputs": [],
   "source": [
    "stack.shape\n",
    "stack = stack[::4,0:,0:]\n",
    "frames = stack.shape[0]"
   ]
  },
  {
   "cell_type": "markdown",
   "metadata": {},
   "source": [
    "## Transform the stack in a (width x length, frames) array"
   ]
  },
  {
   "cell_type": "code",
   "execution_count": 6,
   "metadata": {},
   "outputs": [
    {
     "name": "stdout",
     "output_type": "stream",
     "text": [
      "Image Vectorization OK\n"
     ]
    }
   ],
   "source": [
    "vector_stack = np.zeros((frames, width * height), dtype=int)\n",
    "vector_stack = vectorize(stack, frames, height, width)\n",
    "print(\"Image Vectorization OK\")"
   ]
  },
  {
   "cell_type": "markdown",
   "metadata": {},
   "source": [
    "## Apply GoDec to the stack"
   ]
  },
  {
   "cell_type": "markdown",
   "metadata": {},
   "source": [
    "- rank: ralk(L) <= rank\n",
    "- power: must be positive int. Power scheme modification, increasing it leads to better accuracy at the cost of time\n",
    "- tau: soft thresholding\n",
    "- tol: error tolerance\n",
    "- k: rank stepsizes"
   ]
  },
  {
   "cell_type": "code",
   "execution_count": 10,
   "metadata": {},
   "outputs": [],
   "source": [
    "rank=3\n",
    "power=5 \n",
    "tau=7\n",
    "tol=0.001\n",
    "k=2"
   ]
  },
  {
   "cell_type": "code",
   "execution_count": 11,
   "metadata": {
    "tags": []
   },
   "outputs": [
    {
     "name": "stdout",
     "output_type": "stream",
     "text": [
      "Step  1  over 2\n",
      "20.0 %\n",
      "40.0 %\n",
      "60.0 %\n",
      "80.0 %\n",
      "100.0 %\n",
      "Step  2  over 2\n",
      "20.0 %\n",
      "40.0 %\n",
      "60.0 %\n",
      "80.0 %\n",
      "100.0 %\n",
      "GoDec OK\n",
      "Reconstruction Original Stack OK\n",
      "Reconstruction Low-rank OK\n",
      "Reconstruction Sparse OK\n",
      "Reconstruction Noise OK\n",
      "Full Process OK\n"
     ]
    }
   ],
   "source": [
    "D, L, S = DecomposeGoDec(vector_stack, rank, power, tau, tol, k)\n",
    "\n",
    "D = reconstruct(D, height, width, frames)\n",
    "print(\"Reconstruction Original Stack OK\")\n",
    "L = reconstruct(L, height, width, frames)\n",
    "print(\"Reconstruction Low-rank OK\")\n",
    "S = reconstruct(S, height, width, frames)\n",
    "print(\"Reconstruction Sparse OK\")\n",
    "G = reconstruct(D - L - S,height, width, frames)\n",
    "print(\"Reconstruction Noise OK\")\n",
    "print(\"Full Process OK\")\n",
    "\n",
    "#D, L, S = GreGoDec(vector_stack, rank, tau, tol, power, k)\n",
    "\n"
   ]
  },
  {
   "cell_type": "code",
   "execution_count": 12,
   "metadata": {},
   "outputs": [
    {
     "name": "stdout",
     "output_type": "stream",
     "text": [
      "napari.Viewer: napari\n"
     ]
    },
    {
     "data": {
      "text/plain": [
       "<Image layer 'Low-rank array : background' at 0x7fb44a53ee50>"
      ]
     },
     "execution_count": 12,
     "metadata": {},
     "output_type": "execute_result"
    }
   ],
   "source": [
    "if 'viewer' in locals(): # myVar exists.\n",
    "    viewer.close()\n",
    "    \n",
    "viewer = napari.view_image(stack, name=\"Original data\")\n",
    "print(viewer)\n",
    "viewer.add_image(S, name=\"Sparse array : moving objects\")\n",
    "viewer.add_image(G, name=\"Noise array\")\n",
    "viewer.add_image(L, name=\"Low-rank array : background\")"
   ]
  },
  {
   "cell_type": "markdown",
   "metadata": {},
   "source": [
    "# Saving images\n",
    "\n",
    "If you are satisfied with the decomposition, please execute the following cell. If you are not satisfied, please adapt the rank/power/tau parameters accordingly"
   ]
  },
  {
   "cell_type": "code",
   "execution_count": 14,
   "metadata": {},
   "outputs": [
    {
     "name": "stdout",
     "output_type": "stream",
     "text": [
      "/Users/jacques/Dropbox/Codes/Python/ImageAnalysis/GoDec/Samples/Escalator-1000f-8b_sparse.tif\n",
      "/Users/jacques/Dropbox/Codes/Python/ImageAnalysis/GoDec/Samples/Escalator-1000f-8b_background.tif\n",
      "/Users/jacques/Dropbox/Codes/Python/ImageAnalysis/GoDec/Samples/Escalator-1000f-8b_noise.tif\n"
     ]
    }
   ],
   "source": [
    "dynamic_range = 8 #(or 16). 8bits is by default, if the parameter is left empty\n",
    "\n",
    "name = path + filename.split(\".\")[-2] + \"_sparse.tif\"\n",
    "save(S, name, dynamic_range)\n",
    "name = path + filename.split(\".\")[-2] + \"_background.tif\"\n",
    "save(L, name, dynamic_range)\n",
    "name = path + filename.split(\".\")[-2] + \"_noise.tif\"\n",
    "save(G, name, dynamic_range)"
   ]
  },
  {
   "cell_type": "code",
   "execution_count": 29,
   "metadata": {},
   "outputs": [
    {
     "name": "stdout",
     "output_type": "stream",
     "text": [
      "napari.Viewer: napari\n"
     ]
    }
   ],
   "source": [
    "print(viewer)"
   ]
  },
  {
   "cell_type": "code",
   "execution_count": 16,
   "metadata": {
    "tags": [
     "hide_input"
    ]
   },
   "outputs": [
    {
     "data": {
      "text/html": [
       "<details>\n",
       "<summary>Click to view session information</summary>\n",
       "<pre>\n",
       "-----\n",
       "PyQt5               NA\n",
       "cv2                 3.4.2\n",
       "napari              0.4.12\n",
       "numpy               1.21.2\n",
       "pywt                1.1.1\n",
       "scipy               1.7.1\n",
       "session_info        1.0.0\n",
       "skimage             0.18.3\n",
       "-----\n",
       "</pre>\n",
       "<details>\n",
       "<summary>Click to view modules imported as dependencies</summary>\n",
       "<pre>\n",
       "OpenGL                      3.1.5\n",
       "PIL                         8.4.0\n",
       "anyio                       NA\n",
       "appdirs                     1.4.4\n",
       "appnope                     0.1.2\n",
       "attr                        21.2.0\n",
       "babel                       2.9.1\n",
       "backcall                    0.2.0\n",
       "beta_ufunc                  NA\n",
       "binom_ufunc                 NA\n",
       "brotli                      NA\n",
       "cachey                      0.2.1\n",
       "certifi                     2021.10.08\n",
       "cffi                        1.14.6\n",
       "chardet                     4.0.0\n",
       "charset_normalizer          2.0.4\n",
       "cloudpickle                 2.0.0\n",
       "cycler                      0.10.0\n",
       "cython_runtime              NA\n",
       "cytoolz                     0.11.0\n",
       "dask                        2021.11.1\n",
       "dateutil                    2.8.2\n",
       "debugpy                     1.5.1\n",
       "decorator                   5.1.0\n",
       "defusedxml                  0.7.1\n",
       "docstring_parser            NA\n",
       "entrypoints                 0.3\n",
       "fsspec                      2021.11.0\n",
       "heapdict                    NA\n",
       "hsluv                       5.0.2\n",
       "idna                        3.3\n",
       "imagecodecs                 2021.8.26\n",
       "imageio                     2.9.0\n",
       "importlib_metadata          NA\n",
       "ipykernel                   6.4.1\n",
       "ipython_genutils            0.2.0\n",
       "jedi                        0.18.0\n",
       "jinja2                      2.11.3\n",
       "json5                       NA\n",
       "jsonschema                  3.2.0\n",
       "jupyter_server              1.11.2\n",
       "jupyterlab_server           2.8.2\n",
       "kiwisolver                  1.3.1\n",
       "magicgui                    0.3.3\n",
       "markupsafe                  1.1.1\n",
       "matplotlib                  3.5.0\n",
       "mkl                         2.4.0\n",
       "mpl_toolkits                NA\n",
       "napari_console              NA\n",
       "napari_plugin_engine        0.2.0\n",
       "napari_svg                  0.1.5\n",
       "nbclassic                   NA\n",
       "nbformat                    5.1.3\n",
       "nbinom_ufunc                NA\n",
       "networkx                    2.6.3\n",
       "numpydoc                    1.1.0\n",
       "packaging                   21.3\n",
       "parso                       0.8.2\n",
       "pexpect                     4.8.0\n",
       "pickleshare                 0.7.5\n",
       "pkg_resources               NA\n",
       "prometheus_client           NA\n",
       "prompt_toolkit              3.0.20\n",
       "psutil                      5.8.0\n",
       "psygnal                     0.2.0\n",
       "ptyprocess                  0.7.0\n",
       "pvectorc                    NA\n",
       "pydantic                    NA\n",
       "pydev_ipython               NA\n",
       "pydevconsole                NA\n",
       "pydevd                      2.6.0\n",
       "pydevd_concurrency_analyser NA\n",
       "pydevd_file_utils           NA\n",
       "pydevd_plugins              NA\n",
       "pydevd_tracing              NA\n",
       "pygments                    2.10.0\n",
       "pyparsing                   3.0.4\n",
       "pyrsistent                  NA\n",
       "pytz                        2021.3\n",
       "qtconsole                   5.1.1\n",
       "qtpy                        1.10.0\n",
       "requests                    2.26.0\n",
       "send2trash                  NA\n",
       "sip                         NA\n",
       "six                         1.16.0\n",
       "sniffio                     1.2.0\n",
       "socks                       1.7.1\n",
       "sphinxcontrib               NA\n",
       "storemagic                  NA\n",
       "superqt                     0.2.4\n",
       "tblib                       1.7.0\n",
       "terminado                   0.9.4\n",
       "tifffile                    2021.7.2\n",
       "tlz                         0.11.0\n",
       "toolz                       0.11.2\n",
       "tornado                     6.1\n",
       "tqdm                        4.62.3\n",
       "traitlets                   5.1.1\n",
       "typing_extensions           NA\n",
       "urllib3                     1.26.7\n",
       "vispy                       0.7.3\n",
       "wcwidth                     0.2.5\n",
       "websocket                   1.2.1\n",
       "wrapt                       1.12.1\n",
       "yaml                        6.0\n",
       "zipp                        NA\n",
       "zmq                         22.3.0\n",
       "</pre>\n",
       "</details> <!-- seems like this ends pre, so might as well be explicit -->\n",
       "<pre>\n",
       "-----\n",
       "IPython             7.29.0\n",
       "jupyter_client      6.1.12\n",
       "jupyter_core        4.9.1\n",
       "jupyterlab          3.2.4\n",
       "notebook            6.4.6\n",
       "-----\n",
       "Python 3.7.11 (default, Jul 27 2021, 07:03:16) [Clang 10.0.0 ]\n",
       "Darwin-20.6.0-x86_64-i386-64bit\n",
       "-----\n",
       "Session information updated at 2022-03-17 10:47\n",
       "</pre>\n",
       "</details>"
      ],
      "text/plain": [
       "<IPython.core.display.HTML object>"
      ]
     },
     "execution_count": 16,
     "metadata": {},
     "output_type": "execute_result"
    }
   ],
   "source": [
    "session_info.show()"
   ]
  },
  {
   "cell_type": "code",
   "execution_count": null,
   "metadata": {},
   "outputs": [],
   "source": []
  }
 ],
 "metadata": {
  "kernelspec": {
   "display_name": "Python 3 (ipykernel)",
   "language": "python",
   "name": "python3"
  },
  "language_info": {
   "codemirror_mode": {
    "name": "ipython",
    "version": 3
   },
   "file_extension": ".py",
   "mimetype": "text/x-python",
   "name": "python",
   "nbconvert_exporter": "python",
   "pygments_lexer": "ipython3",
   "version": "3.7.11"
  }
 },
 "nbformat": 4,
 "nbformat_minor": 4
}
